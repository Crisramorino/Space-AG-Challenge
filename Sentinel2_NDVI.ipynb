{
  "nbformat": 4,
  "nbformat_minor": 0,
  "metadata": {
    "colab": {
      "name": "Untitled9.ipynb",
      "provenance": [],
      "toc_visible": true,
      "machine_shape": "hm"
    },
    "kernelspec": {
      "name": "python3",
      "display_name": "Python 3"
    }
  },
  "cells": [
    {
      "cell_type": "markdown",
      "metadata": {
        "id": "UAE2Sw3cOeg_",
        "colab_type": "text"
      },
      "source": [
        "#Space AG Data Analyst Challenge"
      ]
    },
    {
      "cell_type": "markdown",
      "metadata": {
        "id": "pFTdM1iUOoPj",
        "colab_type": "text"
      },
      "source": [
        "**Prostulante:** Cristopher Ramorino"
      ]
    },
    {
      "cell_type": "markdown",
      "metadata": {
        "id": "SVrvQ337OzFV",
        "colab_type": "text"
      },
      "source": [
        "#Preparación de entorno.\n"
      ]
    },
    {
      "cell_type": "markdown",
      "metadata": {
        "id": "jg87NKIcO7B5",
        "colab_type": "text"
      },
      "source": [
        "Intsalando dependencias para descargar datos satelitales e importar datos geojson"
      ]
    },
    {
      "cell_type": "code",
      "metadata": {
        "id": "YWDKDZStvu7b",
        "colab_type": "code",
        "outputId": "8e32f891-eb31-4f69-cb8a-6976de18877b",
        "colab": {
          "base_uri": "https://localhost:8080/",
          "height": 1000
        }
      },
      "source": [
        "!pip install sentinelhub\n",
        "!pip install geopandas\n",
        "!pip install numpngw\n"
      ],
      "execution_count": 2,
      "outputs": [
        {
          "output_type": "stream",
          "text": [
            "Collecting sentinelhub\n",
            "\u001b[?25l  Downloading https://files.pythonhosted.org/packages/7a/34/a56ee2371b5abc273c914e4591d714664e97f07b023c30f9abf079278ba9/sentinelhub-3.0.2.tar.gz (176kB)\n",
            "\u001b[K     |████████████████████████████████| 184kB 2.7MB/s \n",
            "\u001b[?25hRequirement already satisfied: wheel in /usr/local/lib/python3.6/dist-packages (from sentinelhub) (0.34.2)\n",
            "Requirement already satisfied: requests>=2.5.0 in /usr/local/lib/python3.6/dist-packages (from sentinelhub) (2.23.0)\n",
            "Requirement already satisfied: click in /usr/local/lib/python3.6/dist-packages (from sentinelhub) (7.1.2)\n",
            "Requirement already satisfied: numpy in /usr/local/lib/python3.6/dist-packages (from sentinelhub) (1.18.3)\n",
            "Collecting tifffile\n",
            "\u001b[?25l  Downloading https://files.pythonhosted.org/packages/17/e8/76979051a2a15b23e2652a3cdeb7d3dfec518c54138bd0f8b5a5ef2c267a/tifffile-2020.2.16-py3-none-any.whl (130kB)\n",
            "\u001b[K     |████████████████████████████████| 133kB 11.2MB/s \n",
            "\u001b[?25hRequirement already satisfied: pillow in /usr/local/lib/python3.6/dist-packages (from sentinelhub) (7.0.0)\n",
            "Requirement already satisfied: python-dateutil in /usr/local/lib/python3.6/dist-packages (from sentinelhub) (2.8.1)\n",
            "Collecting utm\n",
            "  Downloading https://files.pythonhosted.org/packages/b6/77/180f06153f2c1a8caf8409ff6365abc9423ec4ebc3991dfe4a3228bc09d4/utm-0.5.0.tar.gz\n",
            "Requirement already satisfied: shapely in /usr/local/lib/python3.6/dist-packages (from sentinelhub) (1.7.0)\n",
            "Requirement already satisfied: boto3 in /usr/local/lib/python3.6/dist-packages (from sentinelhub) (1.12.47)\n",
            "Requirement already satisfied: botocore in /usr/local/lib/python3.6/dist-packages (from sentinelhub) (1.15.47)\n",
            "Collecting pyproj>=2.2.0\n",
            "\u001b[?25l  Downloading https://files.pythonhosted.org/packages/ce/37/705ee471f71130d4ceee41bbcb06f3b52175cb89273cbb5755ed5e6374e0/pyproj-2.6.0-cp36-cp36m-manylinux2010_x86_64.whl (10.4MB)\n",
            "\u001b[K     |████████████████████████████████| 10.4MB 8.5MB/s \n",
            "\u001b[?25hRequirement already satisfied: oauthlib in /usr/local/lib/python3.6/dist-packages (from sentinelhub) (3.1.0)\n",
            "Requirement already satisfied: requests_oauthlib in /usr/local/lib/python3.6/dist-packages (from sentinelhub) (1.3.0)\n",
            "Collecting aenum>=2.1.4\n",
            "\u001b[?25l  Downloading https://files.pythonhosted.org/packages/14/5f/320aa3eb68773a147f9a804167087160ca230f530b03eee30ec33f0070c7/aenum-2.2.3-py3-none-any.whl (40kB)\n",
            "\u001b[K     |████████████████████████████████| 40kB 5.8MB/s \n",
            "\u001b[?25hRequirement already satisfied: chardet<4,>=3.0.2 in /usr/local/lib/python3.6/dist-packages (from requests>=2.5.0->sentinelhub) (3.0.4)\n",
            "Requirement already satisfied: urllib3!=1.25.0,!=1.25.1,<1.26,>=1.21.1 in /usr/local/lib/python3.6/dist-packages (from requests>=2.5.0->sentinelhub) (1.24.3)\n",
            "Requirement already satisfied: certifi>=2017.4.17 in /usr/local/lib/python3.6/dist-packages (from requests>=2.5.0->sentinelhub) (2020.4.5.1)\n",
            "Requirement already satisfied: idna<3,>=2.5 in /usr/local/lib/python3.6/dist-packages (from requests>=2.5.0->sentinelhub) (2.9)\n",
            "Collecting imagecodecs>=2020.1.31\n",
            "\u001b[?25l  Downloading https://files.pythonhosted.org/packages/e5/c0/a2001ce40ddf86f5944a111d61a8bb2799d10e169ba47979bc6c821cf8be/imagecodecs-2020.2.18-cp36-cp36m-manylinux2014_x86_64.whl (18.1MB)\n",
            "\u001b[K     |████████████████████████████████| 18.1MB 235kB/s \n",
            "\u001b[?25hRequirement already satisfied: six>=1.5 in /usr/local/lib/python3.6/dist-packages (from python-dateutil->sentinelhub) (1.12.0)\n",
            "Requirement already satisfied: jmespath<1.0.0,>=0.7.1 in /usr/local/lib/python3.6/dist-packages (from boto3->sentinelhub) (0.9.5)\n",
            "Requirement already satisfied: s3transfer<0.4.0,>=0.3.0 in /usr/local/lib/python3.6/dist-packages (from boto3->sentinelhub) (0.3.3)\n",
            "Requirement already satisfied: docutils<0.16,>=0.10 in /usr/local/lib/python3.6/dist-packages (from botocore->sentinelhub) (0.15.2)\n",
            "Building wheels for collected packages: sentinelhub, utm\n",
            "  Building wheel for sentinelhub (setup.py) ... \u001b[?25l\u001b[?25hdone\n",
            "  Created wheel for sentinelhub: filename=sentinelhub-3.0.2-cp36-none-any.whl size=187420 sha256=c7a7467706dbceec3170b33bf8f2299e69e0c70a1914846cce72b16a4151bc72\n",
            "  Stored in directory: /root/.cache/pip/wheels/72/45/e7/14168c74322ea5eb4d28402d2456e09c42463f9c58d961d115\n",
            "  Building wheel for utm (setup.py) ... \u001b[?25l\u001b[?25hdone\n",
            "  Created wheel for utm: filename=utm-0.5.0-cp36-none-any.whl size=5903 sha256=d0eddc9ea4ef0e82c50df5e0ecb85ce98f9cb5cac27d7494fcb2283496812589\n",
            "  Stored in directory: /root/.cache/pip/wheels/22/85/c2/314ffed39b8e02ca623e9b7d2ad7fcf3f8544a0e77c096be76\n",
            "Successfully built sentinelhub utm\n",
            "Installing collected packages: imagecodecs, tifffile, utm, pyproj, aenum, sentinelhub\n",
            "Successfully installed aenum-2.2.3 imagecodecs-2020.2.18 pyproj-2.6.0 sentinelhub-3.0.2 tifffile-2020.2.16 utm-0.5.0\n",
            "Collecting geopandas\n",
            "\u001b[?25l  Downloading https://files.pythonhosted.org/packages/83/c5/3cf9cdc39a6f2552922f79915f36b45a95b71fd343cfc51170a5b6ddb6e8/geopandas-0.7.0-py2.py3-none-any.whl (928kB)\n",
            "\u001b[K     |████████████████████████████████| 931kB 2.7MB/s \n",
            "\u001b[?25hRequirement already satisfied: pyproj>=2.2.0 in /usr/local/lib/python3.6/dist-packages (from geopandas) (2.6.0)\n",
            "Requirement already satisfied: pandas>=0.23.0 in /usr/local/lib/python3.6/dist-packages (from geopandas) (1.0.3)\n",
            "Collecting fiona\n",
            "\u001b[?25l  Downloading https://files.pythonhosted.org/packages/ec/20/4e63bc5c6e62df889297b382c3ccd4a7a488b00946aaaf81a118158c6f09/Fiona-1.8.13.post1-cp36-cp36m-manylinux1_x86_64.whl (14.7MB)\n",
            "\u001b[K     |████████████████████████████████| 14.7MB 320kB/s \n",
            "\u001b[?25hRequirement already satisfied: shapely in /usr/local/lib/python3.6/dist-packages (from geopandas) (1.7.0)\n",
            "Requirement already satisfied: pytz>=2017.2 in /usr/local/lib/python3.6/dist-packages (from pandas>=0.23.0->geopandas) (2018.9)\n",
            "Requirement already satisfied: numpy>=1.13.3 in /usr/local/lib/python3.6/dist-packages (from pandas>=0.23.0->geopandas) (1.18.3)\n",
            "Requirement already satisfied: python-dateutil>=2.6.1 in /usr/local/lib/python3.6/dist-packages (from pandas>=0.23.0->geopandas) (2.8.1)\n",
            "Requirement already satisfied: six>=1.7 in /usr/local/lib/python3.6/dist-packages (from fiona->geopandas) (1.12.0)\n",
            "Collecting cligj>=0.5\n",
            "  Downloading https://files.pythonhosted.org/packages/e4/be/30a58b4b0733850280d01f8bd132591b4668ed5c7046761098d665ac2174/cligj-0.5.0-py3-none-any.whl\n",
            "Requirement already satisfied: attrs>=17 in /usr/local/lib/python3.6/dist-packages (from fiona->geopandas) (19.3.0)\n",
            "Collecting munch\n",
            "  Downloading https://files.pythonhosted.org/packages/cc/ab/85d8da5c9a45e072301beb37ad7f833cd344e04c817d97e0cc75681d248f/munch-2.5.0-py2.py3-none-any.whl\n",
            "Collecting click-plugins>=1.0\n",
            "  Downloading https://files.pythonhosted.org/packages/e9/da/824b92d9942f4e472702488857914bdd50f73021efea15b4cad9aca8ecef/click_plugins-1.1.1-py2.py3-none-any.whl\n",
            "Requirement already satisfied: click<8,>=4.0 in /usr/local/lib/python3.6/dist-packages (from fiona->geopandas) (7.1.2)\n",
            "Installing collected packages: cligj, munch, click-plugins, fiona, geopandas\n",
            "Successfully installed click-plugins-1.1.1 cligj-0.5.0 fiona-1.8.13.post1 geopandas-0.7.0 munch-2.5.0\n",
            "Collecting numpngw\n",
            "  Downloading https://files.pythonhosted.org/packages/48/99/a2482bbf4d3a663042f496e9a23fb68b068e8768baf0183293f3e5f9aaad/numpngw-0.0.8-py3-none-any.whl\n",
            "Requirement already satisfied: numpy>=1.6.0 in /usr/local/lib/python3.6/dist-packages (from numpngw) (1.18.3)\n",
            "Installing collected packages: numpngw\n",
            "Successfully installed numpngw-0.0.8\n"
          ],
          "name": "stdout"
        }
      ]
    },
    {
      "cell_type": "markdown",
      "metadata": {
        "id": "v-Katu-LPLfe",
        "colab_type": "text"
      },
      "source": [
        "Crando carpeda donde se almacenarán imágenes."
      ]
    },
    {
      "cell_type": "code",
      "metadata": {
        "id": "TRm5ppskglAT",
        "colab_type": "code",
        "colab": {}
      },
      "source": [
        "!mkdir 'NDVIS'\n",
        "!mkdir 'Images'"
      ],
      "execution_count": 0,
      "outputs": []
    },
    {
      "cell_type": "code",
      "metadata": {
        "id": "Fk4GdTfA2qoN",
        "colab_type": "code",
        "outputId": "f503eeca-b88f-4f76-aab1-0bc57cd51535",
        "colab": {
          "base_uri": "https://localhost:8080/",
          "height": 153
        }
      },
      "source": [
        "!curl -L -o \"SentinelHub_dates.xlsx\" 'https://docs.google.com/uc?export=download&id=1qrXU6spbYjh4uE3IeX60eA9tBDXy8NkI'\n",
        "!curl -L -o \"Map.geojson\" \"https://docs.google.com/uc?export=download&id=1iuM9xaKXUKwbfOqciFoq4QVGS53AgY1X\"\n"
      ],
      "execution_count": 4,
      "outputs": [
        {
          "output_type": "stream",
          "text": [
            "  % Total    % Received % Xferd  Average Speed   Time    Time     Time  Current\n",
            "                                 Dload  Upload   Total   Spent    Left  Speed\n",
            "100   388    0   388    0     0    908      0 --:--:-- --:--:-- --:--:--   908\n",
            "100  7254  100  7254    0     0   7364      0 --:--:-- --:--:-- --:--:-- 7083k\n",
            "  % Total    % Received % Xferd  Average Speed   Time    Time     Time  Current\n",
            "                                 Dload  Upload   Total   Spent    Left  Speed\n",
            "100   388    0   388    0     0    923      0 --:--:-- --:--:-- --:--:--   923\n",
            "100 91515  100 91515    0     0   101k      0 --:--:-- --:--:-- --:--:--  345k\n"
          ],
          "name": "stdout"
        }
      ]
    },
    {
      "cell_type": "markdown",
      "metadata": {
        "id": "z2ZGOwqHQpfx",
        "colab_type": "text"
      },
      "source": [
        "Cargando dependencias"
      ]
    },
    {
      "cell_type": "code",
      "metadata": {
        "id": "nW5z3FDdQsYz",
        "colab_type": "code",
        "colab": {}
      },
      "source": [
        "import pandas as pd\n",
        "import geopandas as gpd\n",
        "import numpy as np\n",
        "from sentinelhub import SHConfig, DataSource, geometry\n",
        "from sentinelhub import WmsRequest, WcsRequest, MimeType, CRS, BBox, data_request\n",
        "import datetime\n",
        "import matplotlib.pyplot as plt\n",
        "import numpngw"
      ],
      "execution_count": 0,
      "outputs": []
    },
    {
      "cell_type": "markdown",
      "metadata": {
        "id": "7t3Nn_xzQE1o",
        "colab_type": "text"
      },
      "source": [
        "Preparando *Data Frames* de los archivos de datos.\n"
      ]
    },
    {
      "cell_type": "code",
      "metadata": {
        "id": "RsowC5Q_rtHW",
        "colab_type": "code",
        "outputId": "ea7ce21b-5199-4477-be57-150bc6fd2f35",
        "colab": {
          "base_uri": "https://localhost:8080/",
          "height": 419
        }
      },
      "source": [
        "df_dates = pd.read_excel('/content/SentinelHub_dates.xlsx')\n",
        "df_dates.head(100)\n"
      ],
      "execution_count": 6,
      "outputs": [
        {
          "output_type": "execute_result",
          "data": {
            "text/html": [
              "<div>\n",
              "<style scoped>\n",
              "    .dataframe tbody tr th:only-of-type {\n",
              "        vertical-align: middle;\n",
              "    }\n",
              "\n",
              "    .dataframe tbody tr th {\n",
              "        vertical-align: top;\n",
              "    }\n",
              "\n",
              "    .dataframe thead th {\n",
              "        text-align: right;\n",
              "    }\n",
              "</style>\n",
              "<table border=\"1\" class=\"dataframe\">\n",
              "  <thead>\n",
              "    <tr style=\"text-align: right;\">\n",
              "      <th></th>\n",
              "      <th>id</th>\n",
              "      <th>farm</th>\n",
              "      <th>_date</th>\n",
              "      <th>_datetime_utc</th>\n",
              "      <th>validated</th>\n",
              "    </tr>\n",
              "  </thead>\n",
              "  <tbody>\n",
              "    <tr>\n",
              "      <th>0</th>\n",
              "      <td>14180</td>\n",
              "      <td>163</td>\n",
              "      <td>2020-04-20</td>\n",
              "      <td>2020-04-20 15:26:52</td>\n",
              "      <td>1</td>\n",
              "    </tr>\n",
              "    <tr>\n",
              "      <th>1</th>\n",
              "      <td>13892</td>\n",
              "      <td>163</td>\n",
              "      <td>2020-04-15</td>\n",
              "      <td>2020-04-15 15:26:57</td>\n",
              "      <td>1</td>\n",
              "    </tr>\n",
              "    <tr>\n",
              "      <th>2</th>\n",
              "      <td>11899</td>\n",
              "      <td>163</td>\n",
              "      <td>2020-03-11</td>\n",
              "      <td>2020-03-11 15:26:55</td>\n",
              "      <td>1</td>\n",
              "    </tr>\n",
              "    <tr>\n",
              "      <th>3</th>\n",
              "      <td>11202</td>\n",
              "      <td>163</td>\n",
              "      <td>2020-02-15</td>\n",
              "      <td>2020-02-15 15:26:51</td>\n",
              "      <td>1</td>\n",
              "    </tr>\n",
              "    <tr>\n",
              "      <th>4</th>\n",
              "      <td>10946</td>\n",
              "      <td>163</td>\n",
              "      <td>2020-02-10</td>\n",
              "      <td>2020-02-10 15:26:52</td>\n",
              "      <td>1</td>\n",
              "    </tr>\n",
              "    <tr>\n",
              "      <th>...</th>\n",
              "      <td>...</td>\n",
              "      <td>...</td>\n",
              "      <td>...</td>\n",
              "      <td>...</td>\n",
              "      <td>...</td>\n",
              "    </tr>\n",
              "    <tr>\n",
              "      <th>84</th>\n",
              "      <td>8513</td>\n",
              "      <td>163</td>\n",
              "      <td>2016-12-22</td>\n",
              "      <td>2016-12-22 15:23:53</td>\n",
              "      <td>1</td>\n",
              "    </tr>\n",
              "    <tr>\n",
              "      <th>85</th>\n",
              "      <td>8514</td>\n",
              "      <td>163</td>\n",
              "      <td>2016-12-02</td>\n",
              "      <td>2016-12-02 15:21:03</td>\n",
              "      <td>1</td>\n",
              "    </tr>\n",
              "    <tr>\n",
              "      <th>86</th>\n",
              "      <td>8515</td>\n",
              "      <td>163</td>\n",
              "      <td>2016-11-22</td>\n",
              "      <td>2016-11-22 15:19:30</td>\n",
              "      <td>1</td>\n",
              "    </tr>\n",
              "    <tr>\n",
              "      <th>87</th>\n",
              "      <td>8518</td>\n",
              "      <td>163</td>\n",
              "      <td>2016-09-13</td>\n",
              "      <td>2016-09-13 15:26:48</td>\n",
              "      <td>1</td>\n",
              "    </tr>\n",
              "    <tr>\n",
              "      <th>88</th>\n",
              "      <td>8519</td>\n",
              "      <td>163</td>\n",
              "      <td>2016-07-15</td>\n",
              "      <td>2016-07-15 15:23:58</td>\n",
              "      <td>1</td>\n",
              "    </tr>\n",
              "  </tbody>\n",
              "</table>\n",
              "<p>89 rows × 5 columns</p>\n",
              "</div>"
            ],
            "text/plain": [
              "       id  farm       _date        _datetime_utc  validated\n",
              "0   14180   163  2020-04-20  2020-04-20 15:26:52          1\n",
              "1   13892   163  2020-04-15  2020-04-15 15:26:57          1\n",
              "2   11899   163  2020-03-11  2020-03-11 15:26:55          1\n",
              "3   11202   163  2020-02-15  2020-02-15 15:26:51          1\n",
              "4   10946   163  2020-02-10  2020-02-10 15:26:52          1\n",
              "..    ...   ...         ...                  ...        ...\n",
              "84   8513   163  2016-12-22  2016-12-22 15:23:53          1\n",
              "85   8514   163  2016-12-02  2016-12-02 15:21:03          1\n",
              "86   8515   163  2016-11-22  2016-11-22 15:19:30          1\n",
              "87   8518   163  2016-09-13  2016-09-13 15:26:48          1\n",
              "88   8519   163  2016-07-15  2016-07-15 15:23:58          1\n",
              "\n",
              "[89 rows x 5 columns]"
            ]
          },
          "metadata": {
            "tags": []
          },
          "execution_count": 6
        }
      ]
    },
    {
      "cell_type": "markdown",
      "metadata": {
        "id": "lt19QowgQdMY",
        "colab_type": "text"
      },
      "source": [
        "Crando instancia de conexión a Sentinel Hub"
      ]
    },
    {
      "cell_type": "code",
      "metadata": {
        "id": "p5zmKOUFvpGu",
        "colab_type": "code",
        "colab": {}
      },
      "source": [
        "INSTANCE_ID = 'c3bb03eb-c991-420e-b174-b31b09085965'  # In case you put instance ID into configuration file you can leave this unchanged\n",
        "\n",
        "if INSTANCE_ID:\n",
        "    config = SHConfig()\n",
        "    config.instance_id = INSTANCE_ID\n",
        "\n",
        "else:\n",
        "    config = None"
      ],
      "execution_count": 0,
      "outputs": []
    },
    {
      "cell_type": "code",
      "metadata": {
        "id": "UfI29DfCxa16",
        "colab_type": "code",
        "colab": {}
      },
      "source": [
        "%reload_ext autoreload\n",
        "%autoreload 2\n",
        "%matplotlib inline"
      ],
      "execution_count": 0,
      "outputs": []
    },
    {
      "cell_type": "code",
      "metadata": {
        "id": "9lLdpxhBxonY",
        "colab_type": "code",
        "colab": {}
      },
      "source": [
        "def plot_image(image, factor=1):\n",
        "    \"\"\"\n",
        "    Utility function for plotting RGB images.\n",
        "    \"\"\"\n",
        "    fig = plt.subplots(nrows=1, ncols=1, figsize=(15, 7))\n",
        "\n",
        "    if np.issubdtype(image.dtype, np.floating):\n",
        "        plt.imshow(np.minimum(image * factor, 1))\n",
        "   \n",
        "    else:\n",
        "        plt.imshow(image)\n",
        "    "
      ],
      "execution_count": 0,
      "outputs": []
    },
    {
      "cell_type": "markdown",
      "metadata": {
        "id": "ZG92FlHiQ5qm",
        "colab_type": "text"
      },
      "source": [
        "##Carga de datos"
      ]
    },
    {
      "cell_type": "markdown",
      "metadata": {
        "id": "xSWqFRTMRJn5",
        "colab_type": "text"
      },
      "source": [
        "Cargando datos de lotes."
      ]
    },
    {
      "cell_type": "code",
      "metadata": {
        "id": "jzL5TbUxbraK",
        "colab_type": "code",
        "colab": {
          "base_uri": "https://localhost:8080/",
          "height": 1000
        },
        "outputId": "70f555df-4c34-4a25-f051-2cf6dc5dbe42"
      },
      "source": [
        "df_maps=gpd.read_file('Map.geojson')\n",
        "lote_ids=[df_maps.values[i][1]['id'] for i in range(df_maps.shape[0])]\n",
        "lote_names=[df_maps.values[i][1]['name'] for i in range(df_maps.shape[0])]\n",
        "geo=df_maps.geometry.to_list()\n",
        "boxes=[geometry.Geometry(geo[i], crs=CRS.WGS84).bbox for i in range(len(geo))]\n",
        "lotes=pd.DataFrame({'id':lote_ids,'name':lote_names,'box':boxes})\n",
        "\n",
        "\n",
        "lotes\n",
        "\n"
      ],
      "execution_count": 13,
      "outputs": [
        {
          "output_type": "execute_result",
          "data": {
            "text/html": [
              "<div>\n",
              "<style scoped>\n",
              "    .dataframe tbody tr th:only-of-type {\n",
              "        vertical-align: middle;\n",
              "    }\n",
              "\n",
              "    .dataframe tbody tr th {\n",
              "        vertical-align: top;\n",
              "    }\n",
              "\n",
              "    .dataframe thead th {\n",
              "        text-align: right;\n",
              "    }\n",
              "</style>\n",
              "<table border=\"1\" class=\"dataframe\">\n",
              "  <thead>\n",
              "    <tr style=\"text-align: right;\">\n",
              "      <th></th>\n",
              "      <th>id</th>\n",
              "      <th>name</th>\n",
              "      <th>box</th>\n",
              "    </tr>\n",
              "  </thead>\n",
              "  <tbody>\n",
              "    <tr>\n",
              "      <th>0</th>\n",
              "      <td>90214</td>\n",
              "      <td>AGRICOLA CHAPI.DON ERNESTO.PAL-1.36</td>\n",
              "      <td>-75.64298408105815,-14.20062882414364,-75.6396...</td>\n",
              "    </tr>\n",
              "    <tr>\n",
              "      <th>1</th>\n",
              "      <td>90215</td>\n",
              "      <td>AGRICOLA CHAPI.DON ERNESTO.PAL-1.37</td>\n",
              "      <td>-75.64565052221766,-14.20155933262638,-75.6423...</td>\n",
              "    </tr>\n",
              "    <tr>\n",
              "      <th>2</th>\n",
              "      <td>90216</td>\n",
              "      <td>AGRICOLA CHAPI.DON ERNESTO.PAL-1.42</td>\n",
              "      <td>-75.64231663022875,-14.202454024468352,-75.638...</td>\n",
              "    </tr>\n",
              "    <tr>\n",
              "      <th>3</th>\n",
              "      <td>90217</td>\n",
              "      <td>AGRICOLA CHAPI.DON ERNESTO.PAL-1.43</td>\n",
              "      <td>-75.64498414018,-14.203383890611855,-75.641649...</td>\n",
              "    </tr>\n",
              "    <tr>\n",
              "      <th>4</th>\n",
              "      <td>90218</td>\n",
              "      <td>AGRICOLA CHAPI.DON ERNESTO.PAL-1.48</td>\n",
              "      <td>-75.64164955317383,-14.20428015816881,-75.6383...</td>\n",
              "    </tr>\n",
              "    <tr>\n",
              "      <th>5</th>\n",
              "      <td>90219</td>\n",
              "      <td>AGRICOLA CHAPI.DON ERNESTO.PAL-1.49</td>\n",
              "      <td>-75.64431888131925,-14.20521201651521,-75.6409...</td>\n",
              "    </tr>\n",
              "    <tr>\n",
              "      <th>6</th>\n",
              "      <td>90221</td>\n",
              "      <td>AGRICOLA CHAPI.DON ERNESTO.PAL-2.54</td>\n",
              "      <td>-75.64098212423809,-14.206095306337506,-75.637...</td>\n",
              "    </tr>\n",
              "    <tr>\n",
              "      <th>7</th>\n",
              "      <td>90222</td>\n",
              "      <td>AGRICOLA CHAPI.DON ERNESTO.PAL-2.55</td>\n",
              "      <td>-75.64365231081416,-14.20702879053244,-75.6403...</td>\n",
              "    </tr>\n",
              "    <tr>\n",
              "      <th>8</th>\n",
              "      <td>90224</td>\n",
              "      <td>AGRICOLA CHAPI.DON ERNESTO.PAL-3.60</td>\n",
              "      <td>-75.64031869971863,-14.207924450844159,-75.636...</td>\n",
              "    </tr>\n",
              "    <tr>\n",
              "      <th>9</th>\n",
              "      <td>90225</td>\n",
              "      <td>AGRICOLA CHAPI.DON ERNESTO.PAL-3.61</td>\n",
              "      <td>-75.64298986878343,-14.20885416235629,-75.6396...</td>\n",
              "    </tr>\n",
              "    <tr>\n",
              "      <th>10</th>\n",
              "      <td>90227</td>\n",
              "      <td>AGRICOLA CHAPI.DON ERNESTO.PAL-4.66</td>\n",
              "      <td>-75.63965014888008,-14.209739586312066,-75.636...</td>\n",
              "    </tr>\n",
              "    <tr>\n",
              "      <th>11</th>\n",
              "      <td>90228</td>\n",
              "      <td>AGRICOLA CHAPI.DON ERNESTO.PAL-4.67</td>\n",
              "      <td>-75.64232428108325,-14.210673059652205,-75.638...</td>\n",
              "    </tr>\n",
              "    <tr>\n",
              "      <th>12</th>\n",
              "      <td>90229</td>\n",
              "      <td>AGRICOLA CHAPI.DON ERNESTO.PAL-4.72</td>\n",
              "      <td>-75.63898670766262,-14.211559560260621,-75.635...</td>\n",
              "    </tr>\n",
              "    <tr>\n",
              "      <th>13</th>\n",
              "      <td>90230</td>\n",
              "      <td>AGRICOLA CHAPI.DON ERNESTO.PAL-4.73</td>\n",
              "      <td>-75.64166104353744,-14.212491790499048,-75.638...</td>\n",
              "    </tr>\n",
              "    <tr>\n",
              "      <th>14</th>\n",
              "      <td>90231</td>\n",
              "      <td>AGRICOLA CHAPI.DON ERNESTO.PAL-4.78</td>\n",
              "      <td>-75.63832148728072,-14.213384589206255,-75.634...</td>\n",
              "    </tr>\n",
              "    <tr>\n",
              "      <th>15</th>\n",
              "      <td>90232</td>\n",
              "      <td>AGRICOLA CHAPI.DON ERNESTO.PAL-4.79</td>\n",
              "      <td>-75.64099785604193,-14.214318541860234,-75.637...</td>\n",
              "    </tr>\n",
              "    <tr>\n",
              "      <th>16</th>\n",
              "      <td>90233</td>\n",
              "      <td>AGRICOLA CHAPI.DON ERNESTO.PAL-4.84</td>\n",
              "      <td>-75.63765440850564,-14.215141720430472,-75.634...</td>\n",
              "    </tr>\n",
              "    <tr>\n",
              "      <th>17</th>\n",
              "      <td>90234</td>\n",
              "      <td>AGRICOLA CHAPI.DON ERNESTO.PAL-4.85</td>\n",
              "      <td>-75.64033173320622,-14.216076963730377,-75.637...</td>\n",
              "    </tr>\n",
              "    <tr>\n",
              "      <th>18</th>\n",
              "      <td>90250</td>\n",
              "      <td>AGRICOLA CHAPI.DON ERNESTO.PAL-5.19</td>\n",
              "      <td>-75.64763941311051,-14.196068495618299,-75.644...</td>\n",
              "    </tr>\n",
              "    <tr>\n",
              "      <th>19</th>\n",
              "      <td>90251</td>\n",
              "      <td>AGRICOLA CHAPI.DON ERNESTO.PAL-5.27</td>\n",
              "      <td>-75.6523179645351,-14.19973524297276,-75.64903...</td>\n",
              "    </tr>\n",
              "    <tr>\n",
              "      <th>20</th>\n",
              "      <td>90246</td>\n",
              "      <td>AGRICOLA CHAPI.DON ERNESTO.PAL-5.30</td>\n",
              "      <td>-75.64364239237688,-14.198732364113775,-75.640...</td>\n",
              "    </tr>\n",
              "    <tr>\n",
              "      <th>21</th>\n",
              "      <td>90247</td>\n",
              "      <td>AGRICOLA CHAPI.DON ERNESTO.PAL-5.31</td>\n",
              "      <td>-75.64632350714204,-14.199663327203533,-75.643...</td>\n",
              "    </tr>\n",
              "    <tr>\n",
              "      <th>22</th>\n",
              "      <td>90248</td>\n",
              "      <td>AGRICOLA CHAPI.DON ERNESTO.PAL-5.33</td>\n",
              "      <td>-75.65166673445216,-14.201513798702576,-75.648...</td>\n",
              "    </tr>\n",
              "    <tr>\n",
              "      <th>23</th>\n",
              "      <td>90236</td>\n",
              "      <td>AGRICOLA CHAPI.DON ERNESTO.PAL-6.13</td>\n",
              "      <td>-75.64561150025328,-14.193291049214046,-75.642...</td>\n",
              "    </tr>\n",
              "    <tr>\n",
              "      <th>24</th>\n",
              "      <td>90237</td>\n",
              "      <td>AGRICOLA CHAPI.DON ERNESTO.PAL-6.14</td>\n",
              "      <td>-75.65097557981476,-14.19515473241042,-75.6476...</td>\n",
              "    </tr>\n",
              "    <tr>\n",
              "      <th>25</th>\n",
              "      <td>90238</td>\n",
              "      <td>AGRICOLA CHAPI.DON ERNESTO.PAL-6.15</td>\n",
              "      <td>-75.6536477328085,-14.196085894026025,-75.6503...</td>\n",
              "    </tr>\n",
              "    <tr>\n",
              "      <th>26</th>\n",
              "      <td>90239</td>\n",
              "      <td>AGRICOLA CHAPI.DON ERNESTO.PAL-6.18</td>\n",
              "      <td>-75.64495509648042,-14.195132802468311,-75.641...</td>\n",
              "    </tr>\n",
              "    <tr>\n",
              "      <th>27</th>\n",
              "      <td>90240</td>\n",
              "      <td>AGRICOLA CHAPI.DON ERNESTO.PAL-6.20</td>\n",
              "      <td>-75.65031370091558,-14.19702703200722,-75.6470...</td>\n",
              "    </tr>\n",
              "    <tr>\n",
              "      <th>28</th>\n",
              "      <td>90241</td>\n",
              "      <td>AGRICOLA CHAPI.DON ERNESTO.PAL-6.21</td>\n",
              "      <td>-75.65298643203063,-14.19796021341869,-75.6496...</td>\n",
              "    </tr>\n",
              "    <tr>\n",
              "      <th>29</th>\n",
              "      <td>90242</td>\n",
              "      <td>AGRICOLA CHAPI.DON ERNESTO.PAL-6.24</td>\n",
              "      <td>-75.64430202199843,-14.19694295233761,-75.6410...</td>\n",
              "    </tr>\n",
              "    <tr>\n",
              "      <th>30</th>\n",
              "      <td>90243</td>\n",
              "      <td>AGRICOLA CHAPI.DON ERNESTO.PAL-6.25</td>\n",
              "      <td>-75.6469826482682,-14.197881148780363,-75.6436...</td>\n",
              "    </tr>\n",
              "    <tr>\n",
              "      <th>31</th>\n",
              "      <td>90244</td>\n",
              "      <td>AGRICOLA CHAPI.DON ERNESTO.PAL-6.26</td>\n",
              "      <td>-75.64964409685477,-14.198813508297691,-75.646...</td>\n",
              "    </tr>\n",
              "    <tr>\n",
              "      <th>32</th>\n",
              "      <td>90249</td>\n",
              "      <td>AGRICOLA CHAPI.DON ERNESTO.PAL-6.32</td>\n",
              "      <td>-75.64898805011781,-14.200586462611307,-75.645...</td>\n",
              "    </tr>\n",
              "  </tbody>\n",
              "</table>\n",
              "</div>"
            ],
            "text/plain": [
              "       id  ...                                                box\n",
              "0   90214  ...  -75.64298408105815,-14.20062882414364,-75.6396...\n",
              "1   90215  ...  -75.64565052221766,-14.20155933262638,-75.6423...\n",
              "2   90216  ...  -75.64231663022875,-14.202454024468352,-75.638...\n",
              "3   90217  ...  -75.64498414018,-14.203383890611855,-75.641649...\n",
              "4   90218  ...  -75.64164955317383,-14.20428015816881,-75.6383...\n",
              "5   90219  ...  -75.64431888131925,-14.20521201651521,-75.6409...\n",
              "6   90221  ...  -75.64098212423809,-14.206095306337506,-75.637...\n",
              "7   90222  ...  -75.64365231081416,-14.20702879053244,-75.6403...\n",
              "8   90224  ...  -75.64031869971863,-14.207924450844159,-75.636...\n",
              "9   90225  ...  -75.64298986878343,-14.20885416235629,-75.6396...\n",
              "10  90227  ...  -75.63965014888008,-14.209739586312066,-75.636...\n",
              "11  90228  ...  -75.64232428108325,-14.210673059652205,-75.638...\n",
              "12  90229  ...  -75.63898670766262,-14.211559560260621,-75.635...\n",
              "13  90230  ...  -75.64166104353744,-14.212491790499048,-75.638...\n",
              "14  90231  ...  -75.63832148728072,-14.213384589206255,-75.634...\n",
              "15  90232  ...  -75.64099785604193,-14.214318541860234,-75.637...\n",
              "16  90233  ...  -75.63765440850564,-14.215141720430472,-75.634...\n",
              "17  90234  ...  -75.64033173320622,-14.216076963730377,-75.637...\n",
              "18  90250  ...  -75.64763941311051,-14.196068495618299,-75.644...\n",
              "19  90251  ...  -75.6523179645351,-14.19973524297276,-75.64903...\n",
              "20  90246  ...  -75.64364239237688,-14.198732364113775,-75.640...\n",
              "21  90247  ...  -75.64632350714204,-14.199663327203533,-75.643...\n",
              "22  90248  ...  -75.65166673445216,-14.201513798702576,-75.648...\n",
              "23  90236  ...  -75.64561150025328,-14.193291049214046,-75.642...\n",
              "24  90237  ...  -75.65097557981476,-14.19515473241042,-75.6476...\n",
              "25  90238  ...  -75.6536477328085,-14.196085894026025,-75.6503...\n",
              "26  90239  ...  -75.64495509648042,-14.195132802468311,-75.641...\n",
              "27  90240  ...  -75.65031370091558,-14.19702703200722,-75.6470...\n",
              "28  90241  ...  -75.65298643203063,-14.19796021341869,-75.6496...\n",
              "29  90242  ...  -75.64430202199843,-14.19694295233761,-75.6410...\n",
              "30  90243  ...  -75.6469826482682,-14.197881148780363,-75.6436...\n",
              "31  90244  ...  -75.64964409685477,-14.198813508297691,-75.646...\n",
              "32  90249  ...  -75.64898805011781,-14.200586462611307,-75.645...\n",
              "\n",
              "[33 rows x 3 columns]"
            ]
          },
          "metadata": {
            "tags": []
          },
          "execution_count": 13
        }
      ]
    },
    {
      "cell_type": "code",
      "metadata": {
        "id": "nNOsBUcdyTJv",
        "colab_type": "code",
        "outputId": "91967c17-1037-4d8b-81a6-930bbad1035c",
        "colab": {
          "base_uri": "https://localhost:8080/",
          "height": 180
        }
      },
      "source": [
        "\n",
        "bound_box=lotes['box'].to_list()\n"
      ],
      "execution_count": 12,
      "outputs": [
        {
          "output_type": "error",
          "ename": "NameError",
          "evalue": "ignored",
          "traceback": [
            "\u001b[0;31m---------------------------------------------------------------------------\u001b[0m",
            "\u001b[0;31mNameError\u001b[0m                                 Traceback (most recent call last)",
            "\u001b[0;32m<ipython-input-12-5c8304ab8425>\u001b[0m in \u001b[0;36m<module>\u001b[0;34m()\u001b[0m\n\u001b[1;32m      1\u001b[0m \u001b[0mbetsiboka_bbox\u001b[0m \u001b[0;34m=\u001b[0m \u001b[0mBBox\u001b[0m\u001b[0;34m(\u001b[0m\u001b[0mbbox\u001b[0m\u001b[0;34m=\u001b[0m\u001b[0mbetsiboka_coords_wgs84\u001b[0m\u001b[0;34m,\u001b[0m \u001b[0mcrs\u001b[0m\u001b[0;34m=\u001b[0m\u001b[0mCRS\u001b[0m\u001b[0;34m.\u001b[0m\u001b[0mWGS84\u001b[0m\u001b[0;34m)\u001b[0m \u001b[0;31m#ejemplo sentinel hub\u001b[0m\u001b[0;34m\u001b[0m\u001b[0;34m\u001b[0m\u001b[0m\n\u001b[0;32m----> 2\u001b[0;31m \u001b[0mbound_box\u001b[0m\u001b[0;34m=\u001b[0m\u001b[0mlotes\u001b[0m\u001b[0;34m[\u001b[0m\u001b[0;34m'box'\u001b[0m\u001b[0;34m]\u001b[0m\u001b[0;34m.\u001b[0m\u001b[0mto_list\u001b[0m\u001b[0;34m(\u001b[0m\u001b[0;34m)\u001b[0m\u001b[0;34m\u001b[0m\u001b[0;34m\u001b[0m\u001b[0m\n\u001b[0m",
            "\u001b[0;31mNameError\u001b[0m: name 'lotes' is not defined"
          ]
        }
      ]
    },
    {
      "cell_type": "markdown",
      "metadata": {
        "id": "Ba-vvOtWRMpo",
        "colab_type": "text"
      },
      "source": [
        "Cargando fechas."
      ]
    },
    {
      "cell_type": "code",
      "metadata": {
        "id": "RPJLcdTd90V4",
        "colab_type": "code",
        "colab": {}
      },
      "source": [
        "\n",
        "#Retrieve bands for the requested dates \n",
        "datetimes=pd.to_datetime(df_dates['_date'])\n",
        "date_max=datetimes.max().strftime('%Y-%m-%d')\n",
        "date_max='2016-07-18'                             #Borrar esta linea en versión final.\n",
        "date_min=datetimes.min().strftime('%Y-%m-%d')\n"
      ],
      "execution_count": 0,
      "outputs": []
    },
    {
      "cell_type": "markdown",
      "metadata": {
        "id": "3srE8jByRe6O",
        "colab_type": "text"
      },
      "source": [
        "Descarga de bandas de Sentinel 2, cálculo de imagenes NDVI y exportación de imagenes.\n",
        "\n",
        "**Advertencia:** La siguiente sección de código puede tomar muchisimos minutos."
      ]
    },
    {
      "cell_type": "code",
      "metadata": {
        "id": "Mhj9KGpxrS3L",
        "colab_type": "code",
        "colab": {}
      },
      "source": [
        "\n",
        "data_lotes=pd.DataFrame(columns=('fecha','id_lote','name','bands'))\n",
        "\n",
        "n_days=100                               #Si desea disminuir tiempos de ejecución, podrá limitar la cantidad de días a descargar cambiando esta variable.\n",
        "\n",
        "fech=[]\n",
        "id_lot=[]\n",
        "names=[]\n",
        "ndvis=[]\n",
        "ndvi_AVG=[]\n",
        "i=0\n",
        "for date in df_dates['_date'].to_list():\n",
        "  for b in lotes.index:\n",
        "    req = WmsRequest(\n",
        "        layer='BANDS-S2-L1C',\n",
        "        bbox=lotes['box'].iloc[b],\n",
        "        maxcc =0.50,\n",
        "        time=date,\n",
        "        width=512,\n",
        "        height=856,\n",
        "        image_format=MimeType.TIFF_d32f,\n",
        "        config=config\n",
        "    )\n",
        "  \n",
        "    fech.append(date)\n",
        "    id_lot.append(lotes['id'][b])\n",
        "    names.append(lotes['name'][b])\n",
        "    bands=req.get_data()\n",
        "    if bands:\n",
        "      B4=bands[0][:,:,4]\n",
        "      B8=bands[0][:,:,8]\n",
        "      NDVI=(B8-B4)/(B8+B4)\n",
        "      ndvis.append(NDVI)\n",
        "      ndvi_AVG.append(np.mean(NDVI))\n",
        "      title='Lote: '+str(lotes['id'][b])+' Fecha: '+date\n",
        "      plt.title(title)\n",
        "      plt.imshow(NDVI)\n",
        "      plt.savefig('./Images/'+title+'.png',dpi=300, format='png')\n",
        "      image=np.array(255*(NDVI+1)/2,dtype='uint8')\n",
        "      numpngw.write_png('./NDVIS/'+title+'.png',image, bitdepth=8)\n",
        "    else:\n",
        "      ndvi_AVG.append(np.nan)\n",
        "    i+=1\n",
        "  if i>32*n_days: break\n"
      ],
      "execution_count": 0,
      "outputs": []
    },
    {
      "cell_type": "markdown",
      "metadata": {
        "id": "Js9fZsvlRXf7",
        "colab_type": "text"
      },
      "source": [
        "Creando *Data Frame* para análisis."
      ]
    },
    {
      "cell_type": "code",
      "metadata": {
        "id": "3-mDvsrWA3MH",
        "colab_type": "code",
        "colab": {}
      },
      "source": [
        "data={'fecha':fech,'id_lote':id_lot,'name':names,'ndvi_avg':ndvi_AVG}\n",
        "data_lotes=pd.DataFrame(data)\n",
        "\n",
        "data_lotes.head()"
      ],
      "execution_count": 0,
      "outputs": []
    },
    {
      "cell_type": "code",
      "metadata": {
        "id": "PYJeLDBBU5q5",
        "colab_type": "code",
        "colab": {}
      },
      "source": [
        "def plot_curves(_df):\n",
        "\n",
        "  \n",
        "  lotes_df=_df['id_lote'].unique()\n",
        "\n",
        "  for lot in lotes_df:\n",
        "    df_lote=_df[_df.id_lote==lot ]\n",
        "    ind = df_lote.index\n",
        "    indexes=list(reversed(ind.tolist()))\n",
        "    fig_size = plt.rcParams[\"figure.figsize\"]\n",
        "    fig_size[0] = 20\n",
        "    fig_size[1] = 10\n",
        "    plt.rcParams[\"figure.figsize\"] = fig_size\n",
        "    plt.suptitle(\"Evolución de NDVI's por lote.\")\n",
        "    plt.xlabel('días')\n",
        "    plt.ylabel('NDVI')\n",
        "    plt.plot(df_lote['fecha'].loc[indexes],df_lote['ndvi_avg'].loc[indexes],label='Lote '+ str(lot))\n",
        "    plt.xticks(rotation=90)\n",
        "    plt.grid(color='grey', linestyle='-', linewidth=0.5)\n",
        "    plt.legend(bbox_to_anchor=(1.1, 1))\n",
        "  plt.show()\n",
        "  print(list(reversed(ind.tolist())))\n",
        "\n",
        "plot_curves(data_lotes)\n",
        "\n"
      ],
      "execution_count": 0,
      "outputs": []
    },
    {
      "cell_type": "markdown",
      "metadata": {
        "id": "LekVNHw-ci1a",
        "colab_type": "text"
      },
      "source": [
        "##Conclusiones:\n",
        "\n",
        "Podemos apreciar que para los distintos lotes, los valores promedio de NDVI presentan un aumento con el paso de los días (en general), también podemos apreciar que para la mayoría de lotes, estos presentan un NDVI promedio entre valores $0.5$ y $0.6$ que representa valores para la vegetación, por lo que estos lotes en este rango poseen mayor vegetación o más sana que los lotes en los rangos menores de NDVI, sin embargo podemos inferir que en la mayoría de lotes la vegetación va aumentando.\n",
        "\n",
        "Respecto al código, cabe destacar que se realizaron esfuerzos por paralelizar la descarga del servidor de Sentinel Hub, sin embargo este arroja un error ya que no permite consultas simultaneas o muy cercanas en el tiempo (tal vez por ser cuenta gratuita), por lo que se programó esta parte con un for anidado que resulta menos eficiente.\n",
        "\n",
        "Sería interesante también realizar *forecasting* sobre los datos para predecir los NDVI's futuros aplicando modelos de series de tiempo.\n"
      ]
    }
  ]
}